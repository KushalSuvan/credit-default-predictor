{
 "cells": [
  {
   "cell_type": "code",
   "execution_count": 82,
   "metadata": {},
   "outputs": [
    {
     "name": "stdout",
     "output_type": "stream",
     "text": [
      "Index(['LoanID', 'Age', 'Income', 'LoanAmount', 'CreditScore',\n",
      "       'MonthsEmployed', 'NumCreditLines', 'InterestRate', 'LoanTerm',\n",
      "       'DTIRatio', 'Education', 'EmploymentType', 'MaritalStatus',\n",
      "       'HasMortgage', 'HasDependents', 'LoanPurpose', 'HasCoSigner',\n",
      "       'Default'],\n",
      "      dtype='object')\n",
      "17\n"
     ]
    }
   ],
   "source": [
    "import pandas as pd\n",
    "import numpy as np\n",
    "import matplotlib.pyplot as plt\n",
    "import seaborn as sns\n",
    "\n",
    "df = pd.read_csv('./data/train.csv')\n",
    "print(df.columns)\n",
    "\n",
    "LoanID = df['LoanID']\n",
    "df = df.drop(columns=['LoanID']) # a useless column\n",
    "\n",
    "# print(df.head())\n",
    "\n",
    "# nvp = df.isna().sum()\n",
    "# print(nvp)\n",
    "\n",
    "# there are no null values\n",
    "\n",
    "# let's look for outliers\n",
    "# for that let's draw some box plots/ violin plots\n",
    "\n",
    "# plt.violinplot(df['DTIRatio'])\n",
    "# print(df.groupby('Education').size()) # roughly same number of people in each category\n",
    "\n",
    "#let's do something interesting, according to kushal, there is no correlation between any two variables\n",
    "# we verify that\n",
    "# plt.scatter(df['Income'], df['Default']) \n",
    "# clearly no correlation\n",
    "\n",
    "print(len(df.columns))\n",
    "focus = 'Education'\n",
    "\n",
    "# but there might be something when we take three at a time\n",
    "def plot2(focus='Education'):\n",
    "    new_df = df.filter(df['Default'] == 1)  # look at only defaulters\n",
    "    # we want to focus on education and then plot\n",
    "    for i in range(len(df.columns)-1):\n",
    "        other = new_df.columns[i]\n",
    "        if other == focus: \n",
    "            continue\n",
    "        print(new_df[other].dtype)    \n",
    "        if new_df[other].dtype ==  'object':\n",
    "            counts_df = new_df.groupby([focus, other]).size().reset_index(name='count')\n",
    "            for category1 in counts_df[other].unique():\n",
    "                for category2 in counts_df[focus].unique():\n",
    "                    req_count = counts_df[counts_df[other] == category1 and counts_df[focus] == category2]\n",
    "                    plt.plot()\n",
    "            pass\n",
    "        else:\n",
    "            pass\n",
    "\n",
    "# plot2()\n",
    "\n",
    "# coli = df['Education']\n",
    "# colj = df['EmploymentType']\n",
    "\n",
    "# counts = df.groupby(['Education', 'EmploymentType']).size().reset_index(name='count')\n",
    "# print(counts)\n",
    "\n",
    "# plt.bar()"
   ]
  },
  {
   "cell_type": "code",
   "execution_count": null,
   "metadata": {},
   "outputs": [],
   "source": []
  }
 ],
 "metadata": {
  "kernelspec": {
   "display_name": "base",
   "language": "python",
   "name": "python3"
  },
  "language_info": {
   "codemirror_mode": {
    "name": "ipython",
    "version": 3
   },
   "file_extension": ".py",
   "mimetype": "text/x-python",
   "name": "python",
   "nbconvert_exporter": "python",
   "pygments_lexer": "ipython3",
   "version": "3.12.2"
  }
 },
 "nbformat": 4,
 "nbformat_minor": 2
}
