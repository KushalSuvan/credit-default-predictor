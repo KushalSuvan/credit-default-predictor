{
 "cells": [
  {
   "cell_type": "code",
   "execution_count": 10,
   "metadata": {},
   "outputs": [
    {
     "name": "stderr",
     "output_type": "stream",
     "text": [
      "/home/prateek/anaconda3/lib/python3.12/site-packages/sklearn/model_selection/_search.py:318: UserWarning: The total space of parameters 1 is smaller than n_iter=3. Running 1 iterations. For exhaustive searches, use GridSearchCV.\n",
      "  warnings.warn(\n"
     ]
    },
    {
     "name": "stdout",
     "output_type": "stream",
     "text": [
      "Training accuracy:  0.8837236340494795\n",
      "Validation accuracy:  0.8837135304484042\n",
      "{'C': 1}\n",
      "rbf\n"
     ]
    }
   ],
   "source": [
    "from sklearn.svm import SVC\n",
    "import pandas as pd\n",
    "import numpy as np\n",
    "from sklearn.metrics import accuracy_score, f1_score\n",
    "from sklearn.preprocessing import LabelEncoder, StandardScaler\n",
    "from imblearn.over_sampling import RandomOverSampler\n",
    "from sklearn.model_selection import train_test_split, RandomizedSearchCV\n",
    "from sklearn.decomposition import PCA\n",
    "from tqdm import tqdm  # Import tqdm for progress bars\n",
    "\n",
    "# Data Preprocessing\n",
    "df = pd.read_csv('./data/train.csv')\n",
    "test_df  = pd.read_csv('./data/test.csv')\n",
    "\n",
    "ids = test_df['LoanID']\n",
    "df = df.drop(columns=['LoanID'])\n",
    "test_df = test_df.drop(columns='LoanID')\n",
    "\n",
    "# Convert categorical columns\n",
    "categorical_cols = [col for col in df.columns if df[col].dtype == 'object']\n",
    "numerical_cols = [col for col in df.columns if df[col].dtype != 'object' and col != 'Default']\n",
    "target = 'Default'\n",
    "\n",
    "for col in categorical_cols:\n",
    "    le = LabelEncoder()\n",
    "    df[col] = le.fit_transform(df[col])\n",
    "    test_df[col] = le.transform(test_df[col])\n",
    "\n",
    "# Apply standard scaling\n",
    "scaler = StandardScaler()\n",
    "df[numerical_cols] = scaler.fit_transform(df[numerical_cols])\n",
    "test_df[numerical_cols] = scaler.transform(test_df[numerical_cols])\n",
    "\n",
    "# Split and handle class imbalance\n",
    "x_train, x_validate, y_train, y_validate = train_test_split(df.drop(columns=[target]), df[target], test_size=0.2, random_state=17, stratify=df[target])\n",
    "\n",
    "# Oversampling using RandomOverSampler\n",
    "# oversample = RandomOverSampler(sampling_strategy='minority')\n",
    "# x_train, y_train = oversample.fit_resample(x_train, y_train)\n",
    "\n",
    "# Apply PCA (n_components = 0.95)\n",
    "pca = PCA(n_components=0.95)\n",
    "x_train = pca.fit_transform(x_train)\n",
    "x_validate = pca.transform(x_validate)\n",
    "test_df = pca.transform(test_df)\n",
    "\n",
    "# Use Linear SVM (Faster)\n",
    "svm = SVC(random_state=17, kernel='rbf')\n",
    "\n",
    "# Hyperparameter tuning with RandomizedSearchCV using tqdm to track progress\n",
    "params = {\"C\": [1]}\n",
    "rs = RandomizedSearchCV(svm, param_distributions=params, random_state=17, n_jobs=-1, n_iter=3)  # Adjust n_iter for the number of random search iterations\n",
    "\n",
    "# Wrap the RandomizedSearchCV with tqdm for progress\n",
    "# for _ in tqdm(rs.fit(x_train, y_train), desc=\"Training SVM\"):\n",
    "#     pass\n",
    "\n",
    "rs = rs.fit(x_train, y_train)\n",
    "\n",
    "# Get the best model from RandomizedSearchCV\n",
    "model = rs.best_estimator_\n",
    "\n",
    "# Predictions\n",
    "y_train_pred = model.predict(x_train)\n",
    "y_validate_pred = model.predict(x_validate)\n",
    "\n",
    "# Evaluation\n",
    "print('Training accuracy: ', accuracy_score(y_train, y_train_pred))\n",
    "print('Validation accuracy: ', accuracy_score(y_validate, y_validate_pred))\n",
    "\n",
    "# Predicting on the test set\n",
    "y_pred = model.predict(test_df)\n",
    "new_df = pd.DataFrame({'LoanID': ids, 'Default': y_pred})\n",
    "new_df.to_csv('./csv_submissions/svm.csv', index=False)\n",
    "print(rs.best_params_)\n",
    "print(svm.kernel)\n"
   ]
  }
 ],
 "metadata": {
  "kernelspec": {
   "display_name": "base",
   "language": "python",
   "name": "python3"
  },
  "language_info": {
   "codemirror_mode": {
    "name": "ipython",
    "version": 3
   },
   "file_extension": ".py",
   "mimetype": "text/x-python",
   "name": "python",
   "nbconvert_exporter": "python",
   "pygments_lexer": "ipython3",
   "version": "3.12.2"
  }
 },
 "nbformat": 4,
 "nbformat_minor": 2
}
