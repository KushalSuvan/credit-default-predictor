{
  "nbformat": 4,
  "nbformat_minor": 0,
  "metadata": {
    "colab": {
      "provenance": [],
      "gpuType": "T4"
    },
    "kernelspec": {
      "name": "python3",
      "display_name": "Python 3"
    },
    "language_info": {
      "name": "python"
    },
    "accelerator": "GPU"
  },
  "cells": [
    {
      "cell_type": "code",
      "source": [
        "from google.colab import userdata\n",
        "import os\n",
        "\n",
        "os.environ['KAGGLE_USERNAME'] = userdata.get('KAGGLE_USERNAME');\n",
        "os.environ['KAGGLE_KEY'] = userdata.get('KAGGLE_KEY');\n",
        "\n",
        "!kaggle competitions download -c lend-or-lose\n",
        "!unzip lend-or-lose.zip"
      ],
      "metadata": {
        "colab": {
          "base_uri": "https://localhost:8080/"
        },
        "id": "PcjpFOk7IY_A",
        "outputId": "1d5a1484-9e80-4b24-c7df-0a75ddafcb57"
      },
      "execution_count": 2,
      "outputs": [
        {
          "output_type": "stream",
          "name": "stdout",
          "text": [
            "Downloading lend-or-lose.zip to /content\n",
            " 61% 5.00M/8.23M [00:00<00:00, 27.6MB/s]\n",
            "100% 8.23M/8.23M [00:00<00:00, 42.6MB/s]\n",
            "Archive:  lend-or-lose.zip\n",
            "  inflating: sample_submission.csv   \n",
            "  inflating: test.csv                \n",
            "  inflating: train.csv               \n"
          ]
        }
      ]
    },
    {
      "cell_type": "code",
      "execution_count": 3,
      "metadata": {
        "id": "G6itz26FIAWy"
      },
      "outputs": [],
      "source": [
        "import pandas as pd\n",
        "import numpy as np\n",
        "import matplotlib.pyplot as plt\n",
        "import seaborn as sns"
      ]
    },
    {
      "cell_type": "code",
      "source": [
        "train_data = pd.read_csv('train.csv')\n",
        "submission_data = pd.read_csv('test.csv')\n",
        "\n",
        "train_data = train_data.drop('LoanID', axis=1)"
      ],
      "metadata": {
        "id": "KGl8GVA4ICgE"
      },
      "execution_count": 17,
      "outputs": []
    },
    {
      "cell_type": "code",
      "source": [
        "class LogTransformer:\n",
        "    def fit(self, X, y=None):\n",
        "        return self\n",
        "\n",
        "    def transform(self, X):\n",
        "        return np.log1p(X)\n",
        "\n",
        "catColumns = [\"EmploymentType\", \"Education\", \"MaritalStatus\", \"LoanPurpose\", \"HasMortgage\", \"HasDependents\", \"HasCoSigner\"]\n",
        "numColumns = train_data.drop(['Default'], axis=1).select_dtypes(include=['int64', 'float64']).columns.tolist()"
      ],
      "metadata": {
        "id": "sV3k3CI_I8dR"
      },
      "execution_count": 18,
      "outputs": []
    },
    {
      "cell_type": "code",
      "source": [
        "from sklearn.model_selection import train_test_split\n",
        "from sklearn.preprocessing import StandardScaler, OneHotEncoder\n",
        "from sklearn.compose import ColumnTransformer\n",
        "from sklearn.pipeline import Pipeline\n",
        "\n",
        "X = train_data.drop(['Default'], axis=1)\n",
        "y = train_data['Default']\n",
        "\n",
        "\n",
        "numTransformer = Pipeline(steps=[\n",
        "    ('log', LogTransformer()),\n",
        "    ('scaler', StandardScaler())\n",
        "])\n",
        "\n",
        "catTransformer = Pipeline(steps=[\n",
        "    ('onehot', OneHotEncoder(handle_unknown='ignore'))\n",
        "])\n",
        "\n",
        "preprocessor = ColumnTransformer(\n",
        "    transformers=[\n",
        "        ('num', numTransformer, numColumns),\n",
        "        ('cat', catTransformer, catColumns)\n",
        "    ]\n",
        ")\n",
        "\n",
        "X_train, X_val, y_train, y_val = train_test_split(X, y, test_size=0.3, random_state=42)\n",
        "\n",
        "X_train = preprocessor.fit_transform(X_train)\n",
        "X_val = preprocessor.transform(X_val)"
      ],
      "metadata": {
        "id": "DlNcm4JWI_kf"
      },
      "execution_count": 16,
      "outputs": []
    },
    {
      "cell_type": "code",
      "source": [
        "from tensorflow.keras.models import Sequential\n",
        "from tensorflow.keras.layers import Dense, Dropout, Input\n",
        "from tensorflow.keras.utils import to_categorical\n",
        "\n",
        "model = Sequential([\n",
        "    Input(shape=(X_train.shape[1],)),\n",
        "    Dense(64, activation='relu'),\n",
        "    Dropout(0.2),\n",
        "    Dense(256, activation='relu'),\n",
        "    Dropout(0.2),\n",
        "    Dense(512, activation='relu'),\n",
        "    Dropout(0.2),\n",
        "    Dense(512, activation='relu'),\n",
        "    Dense(256, activation='relu'),\n",
        "    Dense(128, activation='relu'),\n",
        "    Dense(64, activation='relu'),\n",
        "    Dense(1, activation='sigmoid')\n",
        "])\n",
        "\n",
        "model.compile(optimizer='adam', loss='binary_crossentropy', metrics=['accuracy'])\n",
        "\n",
        "history = model.fit(X_train, y_train, validation_data=(X_val, y_val), epochs=20, batch_size=32)\n",
        "\n",
        "\n",
        "results = model.evaluate(X_val, y_val, verbose=0)\n",
        "print(f\"Test Loss: {results[0]}, Test Accuracy: {results[1]}\")"
      ],
      "metadata": {
        "colab": {
          "base_uri": "https://localhost:8080/"
        },
        "id": "9Tg7cwF9JAr-",
        "outputId": "e264a750-46d8-4fd1-a360-c11d7cbcc45a"
      },
      "execution_count": 13,
      "outputs": [
        {
          "output_type": "stream",
          "name": "stdout",
          "text": [
            "Epoch 1/20\n",
            "\u001b[1m4469/4469\u001b[0m \u001b[32m━━━━━━━━━━━━━━━━━━━━\u001b[0m\u001b[37m\u001b[0m \u001b[1m30s\u001b[0m 5ms/step - accuracy: 0.8843 - loss: 0.3319 - val_accuracy: 0.8829 - val_loss: 0.3248\n",
            "Epoch 2/20\n",
            "\u001b[1m4469/4469\u001b[0m \u001b[32m━━━━━━━━━━━━━━━━━━━━\u001b[0m\u001b[37m\u001b[0m \u001b[1m34s\u001b[0m 4ms/step - accuracy: 0.8847 - loss: 0.3195 - val_accuracy: 0.8829 - val_loss: 0.3184\n",
            "Epoch 3/20\n",
            "\u001b[1m4469/4469\u001b[0m \u001b[32m━━━━━━━━━━━━━━━━━━━━\u001b[0m\u001b[37m\u001b[0m \u001b[1m19s\u001b[0m 4ms/step - accuracy: 0.8855 - loss: 0.3169 - val_accuracy: 0.8839 - val_loss: 0.3251\n",
            "Epoch 4/20\n",
            "\u001b[1m4469/4469\u001b[0m \u001b[32m━━━━━━━━━━━━━━━━━━━━\u001b[0m\u001b[37m\u001b[0m \u001b[1m20s\u001b[0m 4ms/step - accuracy: 0.8840 - loss: 0.3189 - val_accuracy: 0.8832 - val_loss: 0.3181\n",
            "Epoch 5/20\n",
            "\u001b[1m4469/4469\u001b[0m \u001b[32m━━━━━━━━━━━━━━━━━━━━\u001b[0m\u001b[37m\u001b[0m \u001b[1m19s\u001b[0m 4ms/step - accuracy: 0.8846 - loss: 0.3168 - val_accuracy: 0.8829 - val_loss: 0.3170\n",
            "Epoch 6/20\n",
            "\u001b[1m4469/4469\u001b[0m \u001b[32m━━━━━━━━━━━━━━━━━━━━\u001b[0m\u001b[37m\u001b[0m \u001b[1m17s\u001b[0m 4ms/step - accuracy: 0.8847 - loss: 0.3154 - val_accuracy: 0.8841 - val_loss: 0.3179\n",
            "Epoch 7/20\n",
            "\u001b[1m4469/4469\u001b[0m \u001b[32m━━━━━━━━━━━━━━━━━━━━\u001b[0m\u001b[37m\u001b[0m \u001b[1m20s\u001b[0m 4ms/step - accuracy: 0.8842 - loss: 0.3166 - val_accuracy: 0.8849 - val_loss: 0.3172\n",
            "Epoch 8/20\n",
            "\u001b[1m4469/4469\u001b[0m \u001b[32m━━━━━━━━━━━━━━━━━━━━\u001b[0m\u001b[37m\u001b[0m \u001b[1m17s\u001b[0m 4ms/step - accuracy: 0.8859 - loss: 0.3131 - val_accuracy: 0.8835 - val_loss: 0.3165\n",
            "Epoch 9/20\n",
            "\u001b[1m4469/4469\u001b[0m \u001b[32m━━━━━━━━━━━━━━━━━━━━\u001b[0m\u001b[37m\u001b[0m \u001b[1m23s\u001b[0m 4ms/step - accuracy: 0.8846 - loss: 0.3163 - val_accuracy: 0.8843 - val_loss: 0.3169\n",
            "Epoch 10/20\n",
            "\u001b[1m4469/4469\u001b[0m \u001b[32m━━━━━━━━━━━━━━━━━━━━\u001b[0m\u001b[37m\u001b[0m \u001b[1m19s\u001b[0m 4ms/step - accuracy: 0.8857 - loss: 0.3134 - val_accuracy: 0.8838 - val_loss: 0.3178\n",
            "Epoch 11/20\n",
            "\u001b[1m4469/4469\u001b[0m \u001b[32m━━━━━━━━━━━━━━━━━━━━\u001b[0m\u001b[37m\u001b[0m \u001b[1m20s\u001b[0m 4ms/step - accuracy: 0.8859 - loss: 0.3133 - val_accuracy: 0.8850 - val_loss: 0.3168\n",
            "Epoch 12/20\n",
            "\u001b[1m4469/4469\u001b[0m \u001b[32m━━━━━━━━━━━━━━━━━━━━\u001b[0m\u001b[37m\u001b[0m \u001b[1m17s\u001b[0m 4ms/step - accuracy: 0.8865 - loss: 0.3121 - val_accuracy: 0.8852 - val_loss: 0.3174\n",
            "Epoch 13/20\n",
            "\u001b[1m4469/4469\u001b[0m \u001b[32m━━━━━━━━━━━━━━━━━━━━\u001b[0m\u001b[37m\u001b[0m \u001b[1m20s\u001b[0m 4ms/step - accuracy: 0.8860 - loss: 0.3139 - val_accuracy: 0.8847 - val_loss: 0.3183\n",
            "Epoch 14/20\n",
            "\u001b[1m4469/4469\u001b[0m \u001b[32m━━━━━━━━━━━━━━━━━━━━\u001b[0m\u001b[37m\u001b[0m \u001b[1m23s\u001b[0m 4ms/step - accuracy: 0.8835 - loss: 0.3144 - val_accuracy: 0.8852 - val_loss: 0.3179\n",
            "Epoch 15/20\n",
            "\u001b[1m4469/4469\u001b[0m \u001b[32m━━━━━━━━━━━━━━━━━━━━\u001b[0m\u001b[37m\u001b[0m \u001b[1m17s\u001b[0m 4ms/step - accuracy: 0.8853 - loss: 0.3158 - val_accuracy: 0.8831 - val_loss: 0.3174\n",
            "Epoch 16/20\n",
            "\u001b[1m4469/4469\u001b[0m \u001b[32m━━━━━━━━━━━━━━━━━━━━\u001b[0m\u001b[37m\u001b[0m \u001b[1m17s\u001b[0m 4ms/step - accuracy: 0.8843 - loss: 0.3162 - val_accuracy: 0.8846 - val_loss: 0.3167\n",
            "Epoch 17/20\n",
            "\u001b[1m4469/4469\u001b[0m \u001b[32m━━━━━━━━━━━━━━━━━━━━\u001b[0m\u001b[37m\u001b[0m \u001b[1m18s\u001b[0m 4ms/step - accuracy: 0.8856 - loss: 0.3136 - val_accuracy: 0.8852 - val_loss: 0.3176\n",
            "Epoch 18/20\n",
            "\u001b[1m4469/4469\u001b[0m \u001b[32m━━━━━━━━━━━━━━━━━━━━\u001b[0m\u001b[37m\u001b[0m \u001b[1m19s\u001b[0m 4ms/step - accuracy: 0.8865 - loss: 0.3112 - val_accuracy: 0.8837 - val_loss: 0.3184\n",
            "Epoch 19/20\n",
            "\u001b[1m4469/4469\u001b[0m \u001b[32m━━━━━━━━━━━━━━━━━━━━\u001b[0m\u001b[37m\u001b[0m \u001b[1m23s\u001b[0m 4ms/step - accuracy: 0.8852 - loss: 0.3126 - val_accuracy: 0.8846 - val_loss: 0.3166\n",
            "Epoch 20/20\n",
            "\u001b[1m4469/4469\u001b[0m \u001b[32m━━━━━━━━━━━━━━━━━━━━\u001b[0m\u001b[37m\u001b[0m \u001b[1m17s\u001b[0m 4ms/step - accuracy: 0.8872 - loss: 0.3099 - val_accuracy: 0.8839 - val_loss: 0.3170\n",
            "Test Loss: 0.31697869300842285, Test Accuracy: 0.8838685750961304\n"
          ]
        }
      ]
    },
    {
      "cell_type": "code",
      "source": [
        "test_df_ids = submission_data['LoanID']\n",
        "\n",
        "test_df = submission_data.drop(columns=['LoanID'])\n",
        "\n",
        "X_test = preprocessor.transform(test_df)\n",
        "\n",
        "test_predictions = model.predict(X_test)\n",
        "test_predictions = test_predictions.ravel()\n",
        "\n",
        "test_predictions = (test_predictions > 0.5).astype(int)"
      ],
      "metadata": {
        "colab": {
          "base_uri": "https://localhost:8080/"
        },
        "id": "UZ55RdFLJXG8",
        "outputId": "be3d454a-4d48-4d63-e012-4f23c053c0bd"
      },
      "execution_count": 19,
      "outputs": [
        {
          "output_type": "stream",
          "name": "stdout",
          "text": [
            "\u001b[1m1596/1596\u001b[0m \u001b[32m━━━━━━━━━━━━━━━━━━━━\u001b[0m\u001b[37m\u001b[0m \u001b[1m2s\u001b[0m 1ms/step\n"
          ]
        }
      ]
    }
  ]
}