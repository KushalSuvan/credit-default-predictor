{
 "cells": [
  {
   "cell_type": "code",
   "execution_count": 4,
   "metadata": {},
   "outputs": [
    {
     "name": "stdout",
     "output_type": "stream",
     "text": [
      "column is  Education\n",
      "column is  EmploymentType\n",
      "column is  MaritalStatus\n",
      "column is  HasMortgage\n",
      "column is  HasDependents\n",
      "column is  LoanPurpose\n",
      "column is  HasCoSigner\n",
      "encoding done\n",
      "Training accuracy 0.8833930564530341\n",
      "Validation accuracy 0.8847072645388682\n"
     ]
    }
   ],
   "source": [
    "import pandas as pd\n",
    "import numpy as np\n",
    "import matplotlib.pyplot as plt\n",
    "from sklearn.naive_bayes import BernoulliNB\n",
    "from sklearn.preprocessing import OneHotEncoder, LabelEncoder, StandardScaler\n",
    "from sklearn.model_selection import train_test_split, RandomizedSearchCV\n",
    "from sklearn.metrics import accuracy_score\n",
    "\n",
    "df = pd.read_csv('./data/train.csv')\n",
    "test_df = pd.read_csv('./data/test.csv')\n",
    "\n",
    "\n",
    "to_encode = []\n",
    "for column in df.columns:\n",
    "    if column == 'LoanID':\n",
    "        continue\n",
    "    if df[column].dtype == 'object':\n",
    "        to_encode.append(column)\n",
    "    elif df[column].dtype not in ['float64', 'int64', 'float', 'int']:\n",
    "        to_encode.append(column)\n",
    "\n",
    "for column in to_encode:\n",
    "    ohe = LabelEncoder() #for now let's use labelEncoder\n",
    "    # ohe = OneHotEncoder()\n",
    "    print('column is ', column)\n",
    "    df[column] = ohe.fit_transform(df[column])\n",
    "    test_df[column] = ohe.transform(test_df[column])\n",
    "\n",
    "print('encoding done')\n",
    "\n",
    "bnb_clf = BernoulliNB(binarize=True)\n",
    "train_df, validation_df = train_test_split(df, test_size=0.25, random_state=17)\n",
    "\n",
    "train_df = train_df.drop(columns=['LoanID'])\n",
    "validation_df = validation_df.drop(columns=['LoanID'])\n",
    "\n",
    "x_train_df = train_df.drop(columns=['Default'])\n",
    "y_train_df = train_df['Default']\n",
    "\n",
    "\n",
    "bnb_clf.fit(x_train_df, y_train_df)\n",
    "\n",
    "x_validation_df = validation_df.drop(columns=['Default'])\n",
    "y_validation_df = validation_df['Default']\n",
    "\n",
    "y_validation_pred = bnb_clf.predict(x_validation_df)\n",
    "\n",
    "train_acc = accuracy_score(y_train_df, bnb_clf.predict(x_train_df))\n",
    "valid_acc = accuracy_score(y_validation_df, y_validation_pred)\n",
    "\n",
    "print(f'Training accuracy {train_acc}')\n",
    "print(f'Validation accuracy {valid_acc}')\n",
    "\n",
    "\n",
    "newdf = pd.DataFrame({\"LoanID\": test_df['LoanID'], \"Default\": bnb_clf.predict(X=test_df.drop(columns=['LoanID']))})\n",
    "newdf.to_csv('bernoulli_naive_bayes_out.csv', index=False)"
   ]
  }
 ],
 "metadata": {
  "kernelspec": {
   "display_name": "base",
   "language": "python",
   "name": "python3"
  },
  "language_info": {
   "codemirror_mode": {
    "name": "ipython",
    "version": 3
   },
   "file_extension": ".py",
   "mimetype": "text/x-python",
   "name": "python",
   "nbconvert_exporter": "python",
   "pygments_lexer": "ipython3",
   "version": "3.12.2"
  }
 },
 "nbformat": 4,
 "nbformat_minor": 2
}
